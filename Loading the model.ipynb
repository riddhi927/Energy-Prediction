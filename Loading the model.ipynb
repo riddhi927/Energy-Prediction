{
 "cells": [
  {
   "cell_type": "markdown",
   "id": "d16e3ff3",
   "metadata": {},
   "source": [
    "## This file allows you to load the model and test it on your data, simply uncomment and add your data to the lines."
   ]
  },
  {
   "cell_type": "code",
   "execution_count": 7,
   "id": "c4992a8c",
   "metadata": {},
   "outputs": [],
   "source": [
    "import numpy as np\n",
    "import pandas as pd\n",
    "import csv\n",
    "import requests\n",
    "import time\n",
    "import tensorflow as tf\n",
    "from tensorflow.keras import layers\n",
    "from tensorflow import keras\n",
    "from sklearn.metrics import mean_absolute_error, mean_squared_error"
   ]
  },
  {
   "cell_type": "code",
   "execution_count": 4,
   "id": "28f6c0e0",
   "metadata": {},
   "outputs": [
    {
     "name": "stdout",
     "output_type": "stream",
     "text": [
      "Metal device set to: Apple M2\n"
     ]
    }
   ],
   "source": [
    "model = keras.models.load_model('predictEnergyGen.h5')"
   ]
  },
  {
   "cell_type": "code",
   "execution_count": 5,
   "id": "47e41cb0",
   "metadata": {},
   "outputs": [
    {
     "data": {
      "text/plain": [
       "'\\nX_test = -your data here-\\ny_test = -your data here-\\n'"
      ]
     },
     "execution_count": 5,
     "metadata": {},
     "output_type": "execute_result"
    }
   ],
   "source": [
    "'''\n",
    "X_test = -your data here-\n",
    "y_test = -your data here-\n",
    "'''"
   ]
  },
  {
   "cell_type": "code",
   "execution_count": 6,
   "id": "e99e2dbe",
   "metadata": {},
   "outputs": [
    {
     "data": {
      "text/plain": [
       "'\\ny_pred = model.predict(y_test)\\n'"
      ]
     },
     "execution_count": 6,
     "metadata": {},
     "output_type": "execute_result"
    }
   ],
   "source": [
    "'''\n",
    "y_pred = model.predict(y_test)\n",
    "'''"
   ]
  },
  {
   "cell_type": "code",
   "execution_count": 8,
   "id": "6bca1643",
   "metadata": {},
   "outputs": [
    {
     "data": {
      "text/plain": [
       "'\\nmae = mean_absolute_error(y_test, y_pred)\\n\\nmse = mean_squared_error(y_test, y_pred)\\n\\nrmse = mean_squared_error(y_test, y_pred, squared=False)\\n\\nprint(\"Mean Absolute Error (MAE):\", mae)\\nprint(\"Mean Squared Error (MSE):\", mse)\\nprint(\"Root Mean Squared Error (RMSE):\", rmse)\\n'"
      ]
     },
     "execution_count": 8,
     "metadata": {},
     "output_type": "execute_result"
    }
   ],
   "source": [
    "'''\n",
    "mae = mean_absolute_error(y_test, y_pred)\n",
    "\n",
    "mse = mean_squared_error(y_test, y_pred)\n",
    "\n",
    "rmse = mean_squared_error(y_test, y_pred, squared=False)\n",
    "\n",
    "print(\"Mean Absolute Error (MAE):\", mae)\n",
    "print(\"Mean Squared Error (MSE):\", mse)\n",
    "print(\"Root Mean Squared Error (RMSE):\", rmse)\n",
    "'''"
   ]
  },
  {
   "cell_type": "markdown",
   "id": "dc4106df",
   "metadata": {},
   "source": [
    "### ***Fin.***"
   ]
  }
 ],
 "metadata": {
  "kernelspec": {
   "display_name": "Python 3.10 (tensorflow)",
   "language": "python",
   "name": "tensorflow"
  },
  "language_info": {
   "codemirror_mode": {
    "name": "ipython",
    "version": 3
   },
   "file_extension": ".py",
   "mimetype": "text/x-python",
   "name": "python",
   "nbconvert_exporter": "python",
   "pygments_lexer": "ipython3",
   "version": "3.10.10"
  }
 },
 "nbformat": 4,
 "nbformat_minor": 5
}
