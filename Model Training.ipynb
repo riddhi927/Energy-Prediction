{
 "cells": [
  {
   "cell_type": "markdown",
   "id": "f9731c38",
   "metadata": {},
   "source": [
    "## Predicting Wind Power Generation in the PJM RTO Area"
   ]
  },
  {
   "cell_type": "markdown",
   "id": "e8b6d5a2",
   "metadata": {},
   "source": [
    "### 1. Importing the necesary modules :-"
   ]
  },
  {
   "cell_type": "code",
   "execution_count": 1,
   "id": "4702ee46",
   "metadata": {},
   "outputs": [],
   "source": [
    "import tensorflow as tf\n",
    "from tensorflow.keras import layers"
   ]
  },
  {
   "cell_type": "code",
   "execution_count": 190,
   "id": "7e4efb57",
   "metadata": {},
   "outputs": [],
   "source": [
    "import numpy as np\n",
    "import pandas as pd\n",
    "import csv\n",
    "import requests\n",
    "import time\n",
    "from bs4 import BeautifulSoup\n",
    "import matplotlib.pyplot as plt\n",
    "import seaborn as sns\n",
    "\n",
    "from sklearn.preprocessing import MinMaxScaler\n",
    "from tensorflow.keras.models import Sequential\n",
    "from tensorflow.keras.layers import Dense, LSTM, Dropout, Activation\n",
    "from sklearn.metrics import mean_absolute_error, mean_squared_error, r2_score\n",
    "from tensorflow.keras.utils import plot_model\n",
    "from sklearn.linear_model import LinearRegression\n",
    "from sklearn.model_selection import train_test_split\n",
    "from tensorflow import keras"
   ]
  },
  {
   "cell_type": "markdown",
   "id": "cc04f3e0",
   "metadata": {},
   "source": [
    "### 2. Import the data :-"
   ]
  },
  {
   "cell_type": "code",
   "execution_count": 154,
   "id": "dfc2f909",
   "metadata": {},
   "outputs": [],
   "source": [
    "wind_actual = pd.read_csv('final_actual.csv')\n",
    "wind_forecast = pd.read_csv('final_forecast.csv')"
   ]
  },
  {
   "cell_type": "code",
   "execution_count": 155,
   "id": "bd829117",
   "metadata": {},
   "outputs": [
    {
     "data": {
      "text/plain": [
       "(11336, 3)"
      ]
     },
     "execution_count": 155,
     "metadata": {},
     "output_type": "execute_result"
    }
   ],
   "source": [
    "wind_forecast.shape"
   ]
  },
  {
   "cell_type": "code",
   "execution_count": 156,
   "id": "831506ab",
   "metadata": {},
   "outputs": [
    {
     "data": {
      "text/plain": [
       "(11353, 7)"
      ]
     },
     "execution_count": 156,
     "metadata": {},
     "output_type": "execute_result"
    }
   ],
   "source": [
    "wind_actual.shape"
   ]
  },
  {
   "cell_type": "markdown",
   "id": "7e445aed",
   "metadata": {},
   "source": [
    "### 2.a. Merge the data for ease of handling:"
   ]
  },
  {
   "cell_type": "code",
   "execution_count": 157,
   "id": "a9d9bf2d",
   "metadata": {},
   "outputs": [],
   "source": [
    "data = pd.merge(wind_forecast,wind_actual, on=['Date','HE'])"
   ]
  },
  {
   "cell_type": "code",
   "execution_count": 158,
   "id": "7bd5b72c",
   "metadata": {},
   "outputs": [],
   "source": [
    "data=data.set_index('Date')"
   ]
  },
  {
   "cell_type": "code",
   "execution_count": 159,
   "id": "186ac425",
   "metadata": {},
   "outputs": [],
   "source": [
    "data.rename(columns={'MW_x':'MW_forecast','MW_y':'MW_actual'}, inplace=True)"
   ]
  },
  {
   "cell_type": "code",
   "execution_count": 160,
   "id": "d4b0ac3a",
   "metadata": {},
   "outputs": [],
   "source": [
    "data = data[['HE','Area','MW_forecast','MW_actual']]"
   ]
  },
  {
   "cell_type": "code",
   "execution_count": 161,
   "id": "3f498a0e",
   "metadata": {},
   "outputs": [
    {
     "data": {
      "text/html": [
       "<div>\n",
       "<style scoped>\n",
       "    .dataframe tbody tr th:only-of-type {\n",
       "        vertical-align: middle;\n",
       "    }\n",
       "\n",
       "    .dataframe tbody tr th {\n",
       "        vertical-align: top;\n",
       "    }\n",
       "\n",
       "    .dataframe thead th {\n",
       "        text-align: right;\n",
       "    }\n",
       "</style>\n",
       "<table border=\"1\" class=\"dataframe\">\n",
       "  <thead>\n",
       "    <tr style=\"text-align: right;\">\n",
       "      <th></th>\n",
       "      <th>HE</th>\n",
       "      <th>Area</th>\n",
       "      <th>MW_forecast</th>\n",
       "      <th>MW_actual</th>\n",
       "    </tr>\n",
       "    <tr>\n",
       "      <th>Date</th>\n",
       "      <th></th>\n",
       "      <th></th>\n",
       "      <th></th>\n",
       "      <th></th>\n",
       "    </tr>\n",
       "  </thead>\n",
       "  <tbody>\n",
       "    <tr>\n",
       "      <th>1/1/23</th>\n",
       "      <td>1</td>\n",
       "      <td>RTO</td>\n",
       "      <td>5898.113443</td>\n",
       "      <td>6117.732</td>\n",
       "    </tr>\n",
       "    <tr>\n",
       "      <th>1/1/23</th>\n",
       "      <td>2</td>\n",
       "      <td>RTO</td>\n",
       "      <td>6056.121206</td>\n",
       "      <td>6556.513</td>\n",
       "    </tr>\n",
       "    <tr>\n",
       "      <th>1/1/23</th>\n",
       "      <td>3</td>\n",
       "      <td>RTO</td>\n",
       "      <td>5191.992898</td>\n",
       "      <td>5901.861</td>\n",
       "    </tr>\n",
       "    <tr>\n",
       "      <th>1/1/23</th>\n",
       "      <td>4</td>\n",
       "      <td>RTO</td>\n",
       "      <td>4851.371052</td>\n",
       "      <td>5294.705</td>\n",
       "    </tr>\n",
       "    <tr>\n",
       "      <th>1/1/23</th>\n",
       "      <td>5</td>\n",
       "      <td>RTO</td>\n",
       "      <td>5371.115128</td>\n",
       "      <td>4776.355</td>\n",
       "    </tr>\n",
       "  </tbody>\n",
       "</table>\n",
       "</div>"
      ],
      "text/plain": [
       "        HE Area  MW_forecast  MW_actual\n",
       "Date                                   \n",
       "1/1/23   1  RTO  5898.113443   6117.732\n",
       "1/1/23   2  RTO  6056.121206   6556.513\n",
       "1/1/23   3  RTO  5191.992898   5901.861\n",
       "1/1/23   4  RTO  4851.371052   5294.705\n",
       "1/1/23   5  RTO  5371.115128   4776.355"
      ]
     },
     "execution_count": 161,
     "metadata": {},
     "output_type": "execute_result"
    }
   ],
   "source": [
    "data.head()"
   ]
  },
  {
   "cell_type": "code",
   "execution_count": 162,
   "id": "9da08e14",
   "metadata": {},
   "outputs": [],
   "source": [
    "data = data[data['Area'] == 'RTO']\n",
    "data = data.drop(columns=['Area'])\n",
    "\n",
    "data['MW_actual'] = data['MW_actual'].replace(0, np.nan)\n",
    "\n",
    "data['MW_actual'] = data['MW_actual'].fillna(method='ffill')\n",
    "\n",
    "X = data[['HE', 'MW_forecast']].values\n",
    "y = data['MW_actual'].values"
   ]
  },
  {
   "cell_type": "code",
   "execution_count": 163,
   "id": "a7bccea0",
   "metadata": {},
   "outputs": [
    {
     "data": {
      "text/plain": [
       "(11279, 2)"
      ]
     },
     "execution_count": 163,
     "metadata": {},
     "output_type": "execute_result"
    }
   ],
   "source": [
    "X.shape"
   ]
  },
  {
   "cell_type": "code",
   "execution_count": 164,
   "id": "d6542fc5",
   "metadata": {},
   "outputs": [
    {
     "data": {
      "text/plain": [
       "(11279,)"
      ]
     },
     "execution_count": 164,
     "metadata": {},
     "output_type": "execute_result"
    }
   ],
   "source": [
    "y.shape"
   ]
  },
  {
   "cell_type": "code",
   "execution_count": 165,
   "id": "4980244b",
   "metadata": {},
   "outputs": [
    {
     "data": {
      "text/plain": [
       "array([[1.00000000e+00, 5.89811344e+03],\n",
       "       [2.00000000e+00, 6.05612121e+03],\n",
       "       [3.00000000e+00, 5.19199290e+03],\n",
       "       ...,\n",
       "       [2.20000000e+01, 3.25746100e+03],\n",
       "       [2.30000000e+01, 2.68694800e+03],\n",
       "       [2.40000000e+01, 2.26294300e+03]])"
      ]
     },
     "execution_count": 165,
     "metadata": {},
     "output_type": "execute_result"
    }
   ],
   "source": [
    "X"
   ]
  },
  {
   "cell_type": "markdown",
   "id": "4249861f",
   "metadata": {},
   "source": [
    "### 2.b. Scale the data, separately for X and y so that inverse transform can be applied later:"
   ]
  },
  {
   "cell_type": "code",
   "execution_count": 166,
   "id": "0fd0e77d",
   "metadata": {},
   "outputs": [],
   "source": [
    "\n",
    "scaler_X = MinMaxScaler(feature_range=(0, 1))\n",
    "scaler_y = MinMaxScaler(feature_range=(0, 1))\n",
    "X_scaled = scaler_X.fit_transform(X)\n",
    "y_scaled = scaler_y.fit_transform(y.reshape(-1,1))"
   ]
  },
  {
   "cell_type": "code",
   "execution_count": 139,
   "id": "c094fbc8",
   "metadata": {},
   "outputs": [
    {
     "data": {
      "text/plain": [
       "(11279, 2)"
      ]
     },
     "execution_count": 139,
     "metadata": {},
     "output_type": "execute_result"
    }
   ],
   "source": [
    "X_scaled.shape"
   ]
  },
  {
   "cell_type": "markdown",
   "id": "1b7f91d1",
   "metadata": {},
   "source": [
    "### 2.c. Feature engineering: Create the next 24 hour sequences for each hour of the day data"
   ]
  },
  {
   "cell_type": "code",
   "execution_count": 140,
   "id": "6125e796",
   "metadata": {},
   "outputs": [],
   "source": [
    "def create_sequences(X_in, y_in, seq_length):\n",
    "    X = []\n",
    "    y = []\n",
    "    for i in range(len(data)-seq_length-24):  # Adjusted to predict next 24 values\n",
    "        X.append(X_in[i:i+seq_length, :])  # Exclude last column (MW_actual)\n",
    "        y.append(y_in[i+seq_length:i+seq_length+24, -1])  # Include only last column (MW_actual)\n",
    "    return np.array(X), np.array(y)"
   ]
  },
  {
   "cell_type": "code",
   "execution_count": 141,
   "id": "de54229f",
   "metadata": {},
   "outputs": [],
   "source": [
    "X, y = create_sequences(X_scaled, y_scaled, 24)"
   ]
  },
  {
   "cell_type": "markdown",
   "id": "96ab209b",
   "metadata": {},
   "source": [
    "### 2.d. Split data into training and testing sets"
   ]
  },
  {
   "cell_type": "code",
   "execution_count": 142,
   "id": "30a326d4",
   "metadata": {},
   "outputs": [],
   "source": [
    "split_index = int(X.shape[0] * 0.8)\n",
    "X_train, X_test = X[:split_index], X[split_index:]\n",
    "y_train, y_test = y[:split_index], y[split_index:]"
   ]
  },
  {
   "cell_type": "code",
   "execution_count": 143,
   "id": "0d64fb36",
   "metadata": {},
   "outputs": [
    {
     "data": {
      "text/plain": [
       "(8984, 24, 2)"
      ]
     },
     "execution_count": 143,
     "metadata": {},
     "output_type": "execute_result"
    }
   ],
   "source": [
    "X_train.shape"
   ]
  },
  {
   "cell_type": "markdown",
   "id": "71799465",
   "metadata": {},
   "source": [
    "### Establishing a Baseline using Linear Regression:"
   ]
  },
  {
   "cell_type": "code",
   "execution_count": 188,
   "id": "409f464d",
   "metadata": {},
   "outputs": [
    {
     "name": "stdout",
     "output_type": "stream",
     "text": [
      "Mean Squared Error: 546039.0878255279\n",
      "Mean Absolute Error: 580.8568397468945\n",
      "R-squared: 0.9046816397917244\n",
      "Coefficients:\n",
      "             Coefficient\n",
      "HE             -3.705103\n",
      "MW_forecast     0.963392\n"
     ]
    }
   ],
   "source": [
    "X_linReg = data.drop('MW_actual', axis=1)\n",
    "y_linReg = data['MW_actual']\n",
    "\n",
    "# Spliting the data into training and testing sets\n",
    "X_train_linReg, X_test_linReg, y_train_linReg, y_test_linReg = train_test_split(X_linReg, y_linReg, test_size=0.2, random_state=42)\n",
    "\n",
    "# Initialize and fit the linear regression model\n",
    "model_linReg = LinearRegression()\n",
    "model_linReg.fit(X_train_linReg, y_train_linReg)\n",
    "\n",
    "# Predicting the target variable using X_test\n",
    "y_pred_linReg = model_linReg.predict(X_test_linReg)\n",
    "\n",
    "# Evaluating the model\n",
    "mse_linReg = mean_squared_error(y_test_linReg, y_pred_linReg)\n",
    "mae_linReg = mean_absolute_error(y_test_linReg, y_pred_linReg)\n",
    "r2_linReg = r2_score(y_test_linReg, y_pred_linReg)\n",
    "\n",
    "print(\"Mean Squared Error:\", mse_linReg)\n",
    "print(\"Mean Absolute Error:\", mae_linReg)\n",
    "print(\"R-squared:\", r2_linReg)\n",
    "\n",
    "coefficients_linReg = pd.DataFrame(model_linReg.coef_, X_linReg.columns, columns=['Coefficient'])\n",
    "print(\"Coefficients:\")\n",
    "print(coefficients_linReg)"
   ]
  },
  {
   "cell_type": "markdown",
   "id": "e21b9e07",
   "metadata": {},
   "source": [
    "### 3. Define the model:"
   ]
  },
  {
   "cell_type": "code",
   "execution_count": 111,
   "id": "e1e9288e",
   "metadata": {},
   "outputs": [],
   "source": [
    "model = Sequential([\n",
    "    LSTM(35, return_sequences=True, input_shape=(X_train.shape[1], X_train.shape[2])),\n",
    "    LSTM(35, return_sequences=False),\n",
    "    Dropout(0.2),\n",
    "    Dense(24),\n",
    "    Dense(X_train.shape[1]*24//2),\n",
    "    Activation('linear'),\n",
    "    Dense(24)  \n",
    "])"
   ]
  },
  {
   "cell_type": "code",
   "execution_count": 112,
   "id": "6a2646d1",
   "metadata": {},
   "outputs": [
    {
     "data": {
      "image/png": "[encoded data removed]",
      "text/plain": [
       "<IPython.core.display.Image object>"
      ]
     },
     "execution_count": 112,
     "metadata": {},
     "output_type": "execute_result"
    }
   ],
   "source": [
    "plot_model(model, to_file='model_plot.png', show_shapes=True, show_layer_names=True)"
   ]
  },
  {
   "cell_type": "markdown",
   "id": "25b30711",
   "metadata": {},
   "source": [
    "### 3.a. Compile and train the model for a 100 epochs"
   ]
  },
  {
   "cell_type": "code",
   "execution_count": 113,
   "id": "69e3c7c7",
   "metadata": {},
   "outputs": [
    {
     "name": "stdout",
     "output_type": "stream",
     "text": [
      "Epoch 1/100\n"
     ]
    },
    {
     "name": "stderr",
     "output_type": "stream",
     "text": [
      "loc(\"mps_select\"(\"(mpsFileLoc): /AppleInternal/Library/BuildRoots/75428952-3aa4-11ee-8b65-46d450270006/Library/Caches/com.apple.xbs/Sources/MetalPerformanceShadersGraph/mpsgraph/MetalPerformanceShadersGraph/Core/Files/MPSGraphUtilities.mm\":294:0)): error: 'anec.gain_offset_control' op result #0 must be 4D/5D memref of 16-bit float or 8-bit signed integer or 8-bit unsigned integer values, but got 'memref<1x64x1x35xi1>'\n",
      "loc(\"mps_select\"(\"(mpsFileLoc): /AppleInternal/Library/BuildRoots/75428952-3aa4-11ee-8b65-46d450270006/Library/Caches/com.apple.xbs/Sources/MetalPerformanceShadersGraph/mpsgraph/MetalPerformanceShadersGraph/Core/Files/MPSGraphUtilities.mm\":294:0)): error: 'anec.gain_offset_control' op result #0 must be 4D/5D memref of 16-bit float or 8-bit signed integer or 8-bit unsigned integer values, but got 'memref<1x64x1x35xi1>'\n"
     ]
    },
    {
     "name": "stdout",
     "output_type": "stream",
     "text": [
      "138/141 [============================>.] - ETA: 0s - loss: 0.0462"
     ]
    },
    {
     "name": "stderr",
     "output_type": "stream",
     "text": [
      "loc(\"mps_select\"(\"(mpsFileLoc): /AppleInternal/Library/BuildRoots/75428952-3aa4-11ee-8b65-46d450270006/Library/Caches/com.apple.xbs/Sources/MetalPerformanceShadersGraph/mpsgraph/MetalPerformanceShadersGraph/Core/Files/MPSGraphUtilities.mm\":294:0)): error: 'anec.gain_offset_control' op result #0 must be 4D/5D memref of 16-bit float or 8-bit signed integer or 8-bit unsigned integer values, but got 'memref<1x24x1x35xi1>'\n",
      "loc(\"mps_select\"(\"(mpsFileLoc): /AppleInternal/Library/BuildRoots/75428952-3aa4-11ee-8b65-46d450270006/Library/Caches/com.apple.xbs/Sources/MetalPerformanceShadersGraph/mpsgraph/MetalPerformanceShadersGraph/Core/Files/MPSGraphUtilities.mm\":294:0)): error: 'anec.gain_offset_control' op result #0 must be 4D/5D memref of 16-bit float or 8-bit signed integer or 8-bit unsigned integer values, but got 'memref<1x24x1x35xi1>'\n"
     ]
    },
    {
     "name": "stdout",
     "output_type": "stream",
     "text": [
      "141/141 [==============================] - 18s 63ms/step - loss: 0.0460 - val_loss: 0.0490\n",
      "Epoch 2/100\n",
      "141/141 [==============================] - 3s 20ms/step - loss: 0.0343 - val_loss: 0.0432\n",
      "Epoch 3/100\n",
      "141/141 [==============================] - 3s 21ms/step - loss: 0.0324 - val_loss: 0.0418\n",
      "Epoch 4/100\n",
      "141/141 [==============================] - 3s 21ms/step - loss: 0.0313 - val_loss: 0.0404\n",
      "Epoch 5/100\n",
      "141/141 [==============================] - 3s 20ms/step - loss: 0.0309 - val_loss: 0.0417\n",
      "Epoch 6/100\n",
      "141/141 [==============================] - 3s 20ms/step - loss: 0.0308 - val_loss: 0.0399\n",
      "Epoch 7/100\n",
      "141/141 [==============================] - 3s 20ms/step - loss: 0.0305 - val_loss: 0.0395\n",
      "Epoch 8/100\n",
      "141/141 [==============================] - 3s 20ms/step - loss: 0.0304 - val_loss: 0.0381\n",
      "Epoch 9/100\n",
      "141/141 [==============================] - 3s 20ms/step - loss: 0.0302 - val_loss: 0.0384\n",
      "Epoch 10/100\n",
      "141/141 [==============================] - 3s 20ms/step - loss: 0.0302 - val_loss: 0.0426\n",
      "Epoch 11/100\n",
      "141/141 [==============================] - 3s 20ms/step - loss: 0.0300 - val_loss: 0.0387\n",
      "Epoch 12/100\n",
      "141/141 [==============================] - 3s 20ms/step - loss: 0.0301 - val_loss: 0.0379\n",
      "Epoch 13/100\n",
      "141/141 [==============================] - 3s 20ms/step - loss: 0.0301 - val_loss: 0.0416\n",
      "Epoch 14/100\n",
      "141/141 [==============================] - 3s 19ms/step - loss: 0.0299 - val_loss: 0.0428\n",
      "Epoch 15/100\n",
      "141/141 [==============================] - 3s 21ms/step - loss: 0.0298 - val_loss: 0.0380\n",
      "Epoch 16/100\n",
      "141/141 [==============================] - 3s 19ms/step - loss: 0.0301 - val_loss: 0.0407\n",
      "Epoch 17/100\n",
      "141/141 [==============================] - 3s 19ms/step - loss: 0.0299 - val_loss: 0.0400\n",
      "Epoch 18/100\n",
      "141/141 [==============================] - 3s 19ms/step - loss: 0.0297 - val_loss: 0.0422\n",
      "Epoch 19/100\n",
      "141/141 [==============================] - 3s 19ms/step - loss: 0.0297 - val_loss: 0.0396\n",
      "Epoch 20/100\n",
      "141/141 [==============================] - 3s 20ms/step - loss: 0.0296 - val_loss: 0.0380\n",
      "Epoch 21/100\n",
      "141/141 [==============================] - 3s 20ms/step - loss: 0.0296 - val_loss: 0.0393\n",
      "Epoch 22/100\n",
      "141/141 [==============================] - 3s 19ms/step - loss: 0.0297 - val_loss: 0.0393\n",
      "Epoch 23/100\n",
      "141/141 [==============================] - 3s 19ms/step - loss: 0.0294 - val_loss: 0.0386\n",
      "Epoch 24/100\n",
      "141/141 [==============================] - 3s 20ms/step - loss: 0.0295 - val_loss: 0.0394\n",
      "Epoch 25/100\n",
      "141/141 [==============================] - 4s 25ms/step - loss: 0.0295 - val_loss: 0.0396\n",
      "Epoch 26/100\n",
      "141/141 [==============================] - 3s 21ms/step - loss: 0.0294 - val_loss: 0.0402\n",
      "Epoch 27/100\n",
      "141/141 [==============================] - 3s 20ms/step - loss: 0.0294 - val_loss: 0.0381\n",
      "Epoch 28/100\n",
      "141/141 [==============================] - 3s 21ms/step - loss: 0.0293 - val_loss: 0.0414\n",
      "Epoch 29/100\n",
      "141/141 [==============================] - 3s 21ms/step - loss: 0.0292 - val_loss: 0.0380\n",
      "Epoch 30/100\n",
      "141/141 [==============================] - 3s 21ms/step - loss: 0.0292 - val_loss: 0.0415\n",
      "Epoch 31/100\n",
      "141/141 [==============================] - 3s 22ms/step - loss: 0.0291 - val_loss: 0.0387\n",
      "Epoch 32/100\n",
      "141/141 [==============================] - 3s 21ms/step - loss: 0.0292 - val_loss: 0.0404\n",
      "Epoch 33/100\n",
      "141/141 [==============================] - 3s 21ms/step - loss: 0.0292 - val_loss: 0.0411\n",
      "Epoch 34/100\n",
      "141/141 [==============================] - 3s 21ms/step - loss: 0.0292 - val_loss: 0.0404\n",
      "Epoch 35/100\n",
      "141/141 [==============================] - 3s 21ms/step - loss: 0.0290 - val_loss: 0.0398\n",
      "Epoch 36/100\n",
      "141/141 [==============================] - 3s 21ms/step - loss: 0.0291 - val_loss: 0.0392\n",
      "Epoch 37/100\n",
      "141/141 [==============================] - 3s 21ms/step - loss: 0.0294 - val_loss: 0.0389\n",
      "Epoch 38/100\n",
      "141/141 [==============================] - 3s 21ms/step - loss: 0.0289 - val_loss: 0.0396\n",
      "Epoch 39/100\n",
      "141/141 [==============================] - 3s 22ms/step - loss: 0.0290 - val_loss: 0.0390\n",
      "Epoch 40/100\n",
      "141/141 [==============================] - 3s 21ms/step - loss: 0.0290 - val_loss: 0.0415\n",
      "Epoch 41/100\n",
      "141/141 [==============================] - 3s 21ms/step - loss: 0.0290 - val_loss: 0.0396\n",
      "Epoch 42/100\n",
      "141/141 [==============================] - 3s 22ms/step - loss: 0.0288 - val_loss: 0.0386\n",
      "Epoch 43/100\n",
      "141/141 [==============================] - 3s 21ms/step - loss: 0.0288 - val_loss: 0.0393\n",
      "Epoch 44/100\n",
      "141/141 [==============================] - 3s 21ms/step - loss: 0.0288 - val_loss: 0.0422\n",
      "Epoch 45/100\n",
      "141/141 [==============================] - 3s 21ms/step - loss: 0.0287 - val_loss: 0.0413\n",
      "Epoch 46/100\n",
      "141/141 [==============================] - 3s 22ms/step - loss: 0.0288 - val_loss: 0.0421\n",
      "Epoch 47/100\n",
      "141/141 [==============================] - 3s 23ms/step - loss: 0.0288 - val_loss: 0.0400\n",
      "Epoch 48/100\n",
      "141/141 [==============================] - 3s 20ms/step - loss: 0.0288 - val_loss: 0.0402\n",
      "Epoch 49/100\n",
      "141/141 [==============================] - 3s 21ms/step - loss: 0.0288 - val_loss: 0.0375\n",
      "Epoch 50/100\n",
      "141/141 [==============================] - 3s 20ms/step - loss: 0.0286 - val_loss: 0.0388\n",
      "Epoch 51/100\n",
      "141/141 [==============================] - 3s 20ms/step - loss: 0.0286 - val_loss: 0.0404\n",
      "Epoch 52/100\n",
      "141/141 [==============================] - 3s 20ms/step - loss: 0.0285 - val_loss: 0.0389\n",
      "Epoch 53/100\n",
      "141/141 [==============================] - 3s 20ms/step - loss: 0.0285 - val_loss: 0.0393\n",
      "Epoch 54/100\n",
      "141/141 [==============================] - 3s 23ms/step - loss: 0.0285 - val_loss: 0.0390\n",
      "Epoch 55/100\n",
      "141/141 [==============================] - 3s 22ms/step - loss: 0.0285 - val_loss: 0.0410\n",
      "Epoch 56/100\n",
      "141/141 [==============================] - 3s 21ms/step - loss: 0.0286 - val_loss: 0.0406\n",
      "Epoch 57/100\n",
      "141/141 [==============================] - 3s 21ms/step - loss: 0.0284 - val_loss: 0.0383\n",
      "Epoch 58/100\n",
      "141/141 [==============================] - 3s 24ms/step - loss: 0.0283 - val_loss: 0.0402\n",
      "Epoch 59/100\n",
      "141/141 [==============================] - 3s 21ms/step - loss: 0.0283 - val_loss: 0.0405\n",
      "Epoch 60/100\n",
      "141/141 [==============================] - 3s 21ms/step - loss: 0.0284 - val_loss: 0.0393\n",
      "Epoch 61/100\n",
      "141/141 [==============================] - 3s 22ms/step - loss: 0.0284 - val_loss: 0.0400\n",
      "Epoch 62/100\n",
      "141/141 [==============================] - 3s 24ms/step - loss: 0.0283 - val_loss: 0.0388\n",
      "Epoch 63/100\n",
      "141/141 [==============================] - 3s 25ms/step - loss: 0.0280 - val_loss: 0.0393\n",
      "Epoch 64/100\n",
      "141/141 [==============================] - 3s 21ms/step - loss: 0.0280 - val_loss: 0.0385\n",
      "Epoch 65/100\n",
      "141/141 [==============================] - 3s 21ms/step - loss: 0.0281 - val_loss: 0.0396\n",
      "Epoch 66/100\n",
      "141/141 [==============================] - 3s 21ms/step - loss: 0.0281 - val_loss: 0.0407\n",
      "Epoch 67/100\n",
      "141/141 [==============================] - 3s 21ms/step - loss: 0.0279 - val_loss: 0.0411\n",
      "Epoch 68/100\n",
      "141/141 [==============================] - 3s 21ms/step - loss: 0.0279 - val_loss: 0.0430\n",
      "Epoch 69/100\n",
      "141/141 [==============================] - 3s 22ms/step - loss: 0.0279 - val_loss: 0.0393\n",
      "Epoch 70/100\n",
      "141/141 [==============================] - 3s 21ms/step - loss: 0.0280 - val_loss: 0.0432\n",
      "Epoch 71/100\n",
      "141/141 [==============================] - 3s 21ms/step - loss: 0.0276 - val_loss: 0.0411\n",
      "Epoch 72/100\n",
      "141/141 [==============================] - 3s 22ms/step - loss: 0.0277 - val_loss: 0.0417\n",
      "Epoch 73/100\n",
      "141/141 [==============================] - 3s 22ms/step - loss: 0.0278 - val_loss: 0.0425\n",
      "Epoch 74/100\n",
      "141/141 [==============================] - 4s 28ms/step - loss: 0.0275 - val_loss: 0.0436\n",
      "Epoch 75/100\n",
      "141/141 [==============================] - 3s 22ms/step - loss: 0.0275 - val_loss: 0.0397\n",
      "Epoch 76/100\n",
      "141/141 [==============================] - 3s 24ms/step - loss: 0.0274 - val_loss: 0.0382\n",
      "Epoch 77/100\n",
      "141/141 [==============================] - 3s 21ms/step - loss: 0.0275 - val_loss: 0.0395\n",
      "Epoch 78/100\n",
      "141/141 [==============================] - 3s 21ms/step - loss: 0.0272 - val_loss: 0.0396\n",
      "Epoch 79/100\n",
      "141/141 [==============================] - 3s 21ms/step - loss: 0.0272 - val_loss: 0.0409\n",
      "Epoch 80/100\n"
     ]
    },
    {
     "name": "stdout",
     "output_type": "stream",
     "text": [
      "141/141 [==============================] - 3s 20ms/step - loss: 0.0273 - val_loss: 0.0394\n",
      "Epoch 81/100\n",
      "141/141 [==============================] - 3s 20ms/step - loss: 0.0269 - val_loss: 0.0417\n",
      "Epoch 82/100\n",
      "141/141 [==============================] - 3s 21ms/step - loss: 0.0269 - val_loss: 0.0409\n",
      "Epoch 83/100\n",
      "141/141 [==============================] - 3s 20ms/step - loss: 0.0267 - val_loss: 0.0410\n",
      "Epoch 84/100\n",
      "141/141 [==============================] - 3s 21ms/step - loss: 0.0269 - val_loss: 0.0408\n",
      "Epoch 85/100\n",
      "141/141 [==============================] - 3s 20ms/step - loss: 0.0266 - val_loss: 0.0423\n",
      "Epoch 86/100\n",
      "141/141 [==============================] - 3s 22ms/step - loss: 0.0265 - val_loss: 0.0391\n",
      "Epoch 87/100\n",
      "141/141 [==============================] - 3s 19ms/step - loss: 0.0265 - val_loss: 0.0429\n",
      "Epoch 88/100\n",
      "141/141 [==============================] - 3s 19ms/step - loss: 0.0264 - val_loss: 0.0451\n",
      "Epoch 89/100\n",
      "141/141 [==============================] - 3s 19ms/step - loss: 0.0263 - val_loss: 0.0433\n",
      "Epoch 90/100\n",
      "141/141 [==============================] - 3s 20ms/step - loss: 0.0263 - val_loss: 0.0427\n",
      "Epoch 91/100\n",
      "141/141 [==============================] - 3s 20ms/step - loss: 0.0260 - val_loss: 0.0428\n",
      "Epoch 92/100\n",
      "141/141 [==============================] - 3s 19ms/step - loss: 0.0258 - val_loss: 0.0409\n",
      "Epoch 93/100\n",
      "141/141 [==============================] - 3s 19ms/step - loss: 0.0259 - val_loss: 0.0424\n",
      "Epoch 94/100\n",
      "141/141 [==============================] - 3s 19ms/step - loss: 0.0257 - val_loss: 0.0458\n",
      "Epoch 95/100\n",
      "141/141 [==============================] - 3s 19ms/step - loss: 0.0258 - val_loss: 0.0448\n",
      "Epoch 96/100\n",
      "141/141 [==============================] - 3s 20ms/step - loss: 0.0256 - val_loss: 0.0432\n",
      "Epoch 97/100\n",
      "141/141 [==============================] - 3s 24ms/step - loss: 0.0254 - val_loss: 0.0434\n",
      "Epoch 98/100\n",
      "141/141 [==============================] - 3s 21ms/step - loss: 0.0252 - val_loss: 0.0454\n",
      "Epoch 99/100\n",
      "141/141 [==============================] - 3s 21ms/step - loss: 0.0252 - val_loss: 0.0439\n",
      "Epoch 100/100\n",
      "141/141 [==============================] - 3s 22ms/step - loss: 0.0250 - val_loss: 0.0422\n"
     ]
    },
    {
     "data": {
      "text/plain": [
       "<keras.callbacks.History at 0x2d5c05210>"
      ]
     },
     "execution_count": 113,
     "metadata": {},
     "output_type": "execute_result"
    }
   ],
   "source": [
    "# Compile the model\n",
    "model.compile(optimizer='adam', loss='mean_squared_error')\n",
    "\n",
    "# Train the model\n",
    "model.fit(X_train, y_train, batch_size=64, epochs=100, validation_data=(X_test, y_test), verbose=1)\n"
   ]
  },
  {
   "cell_type": "code",
   "execution_count": 167,
   "id": "5efd0588",
   "metadata": {},
   "outputs": [],
   "source": [
    "model.save('predictEnergyGen.h5')"
   ]
  },
  {
   "cell_type": "markdown",
   "id": "46f0cc4c",
   "metadata": {},
   "source": [
    "### 3.b. Predict the next 24 hours of data:"
   ]
  },
  {
   "cell_type": "code",
   "execution_count": 175,
   "id": "6955f4aa",
   "metadata": {},
   "outputs": [
    {
     "data": {
      "text/plain": [
       "(24, 2)"
      ]
     },
     "execution_count": 175,
     "metadata": {},
     "output_type": "execute_result"
    }
   ],
   "source": [
    "next_24_hours_data = X_train[-24:,1]\n",
    "next_24_hours_data.shape"
   ]
  },
  {
   "cell_type": "code",
   "execution_count": 176,
   "id": "4de1ce30",
   "metadata": {},
   "outputs": [
    {
     "data": {
      "text/plain": [
       "(1, 24, 2)"
      ]
     },
     "execution_count": 176,
     "metadata": {},
     "output_type": "execute_result"
    }
   ],
   "source": [
    "next_24_hours_data_reshaped = next_24_hours_data.reshape((1, next_24_hours_data.shape[0], next_24_hours_data.shape[1]))\n",
    "next_24_hours_data_reshaped.shape"
   ]
  },
  {
   "cell_type": "code",
   "execution_count": 177,
   "id": "d0f0098a",
   "metadata": {},
   "outputs": [
    {
     "name": "stdout",
     "output_type": "stream",
     "text": [
      "1/1 [==============================] - 0s 49ms/step\n"
     ]
    }
   ],
   "source": [
    "next_24_hours_predictions = model.predict(next_24_hours_data_reshaped)"
   ]
  },
  {
   "cell_type": "code",
   "execution_count": 178,
   "id": "6430c447",
   "metadata": {},
   "outputs": [
    {
     "data": {
      "text/plain": [
       "array([[0.13476478, 0.14015989, 0.14503202, 0.15027022, 0.16089122,\n",
       "        0.16886687, 0.1739182 , 0.18871623, 0.20799334, 0.21819942,\n",
       "        0.22352874, 0.241587  , 0.25826833, 0.26787   , 0.28972834,\n",
       "        0.30276477, 0.3133539 , 0.31745672, 0.32140976, 0.3209169 ,\n",
       "        0.31893128, 0.3141392 , 0.3122963 , 0.31240267]], dtype=float32)"
      ]
     },
     "execution_count": 178,
     "metadata": {},
     "output_type": "execute_result"
    }
   ],
   "source": [
    "next_24_hours_predictions"
   ]
  },
  {
   "cell_type": "code",
   "execution_count": 144,
   "id": "304058c7",
   "metadata": {},
   "outputs": [],
   "source": [
    "new_predictions = next_24_hours_predictions.reshape(-1,1)"
   ]
  },
  {
   "cell_type": "code",
   "execution_count": 145,
   "id": "a96b3adc",
   "metadata": {},
   "outputs": [],
   "source": [
    "inverse_predictions = scaler_y.inverse_transform(new_predictions)"
   ]
  },
  {
   "cell_type": "code",
   "execution_count": 203,
   "id": "043f1d3c",
   "metadata": {},
   "outputs": [],
   "source": [
    "predicted_df = pd.DataFrame(inverse_predictions, columns=['MW'])"
   ]
  },
  {
   "cell_type": "code",
   "execution_count": 204,
   "id": "c15a9249",
   "metadata": {},
   "outputs": [
    {
     "data": {
      "text/html": [
       "<div>\n",
       "<style scoped>\n",
       "    .dataframe tbody tr th:only-of-type {\n",
       "        vertical-align: middle;\n",
       "    }\n",
       "\n",
       "    .dataframe tbody tr th {\n",
       "        vertical-align: top;\n",
       "    }\n",
       "\n",
       "    .dataframe thead th {\n",
       "        text-align: right;\n",
       "    }\n",
       "</style>\n",
       "<table border=\"1\" class=\"dataframe\">\n",
       "  <thead>\n",
       "    <tr style=\"text-align: right;\">\n",
       "      <th></th>\n",
       "      <th>MW</th>\n",
       "    </tr>\n",
       "  </thead>\n",
       "  <tbody>\n",
       "    <tr>\n",
       "      <th>0</th>\n",
       "      <td>1374.539429</td>\n",
       "    </tr>\n",
       "    <tr>\n",
       "      <th>1</th>\n",
       "      <td>1428.280640</td>\n",
       "    </tr>\n",
       "    <tr>\n",
       "      <th>2</th>\n",
       "      <td>1476.812378</td>\n",
       "    </tr>\n",
       "    <tr>\n",
       "      <th>3</th>\n",
       "      <td>1528.990601</td>\n",
       "    </tr>\n",
       "    <tr>\n",
       "      <th>4</th>\n",
       "      <td>1634.787231</td>\n",
       "    </tr>\n",
       "    <tr>\n",
       "      <th>5</th>\n",
       "      <td>1714.233521</td>\n",
       "    </tr>\n",
       "    <tr>\n",
       "      <th>6</th>\n",
       "      <td>1764.550293</td>\n",
       "    </tr>\n",
       "    <tr>\n",
       "      <th>7</th>\n",
       "      <td>1911.954834</td>\n",
       "    </tr>\n",
       "    <tr>\n",
       "      <th>8</th>\n",
       "      <td>2103.975830</td>\n",
       "    </tr>\n",
       "    <tr>\n",
       "      <th>9</th>\n",
       "      <td>2205.639404</td>\n",
       "    </tr>\n",
       "    <tr>\n",
       "      <th>10</th>\n",
       "      <td>2258.725342</td>\n",
       "    </tr>\n",
       "    <tr>\n",
       "      <th>11</th>\n",
       "      <td>2438.605469</td>\n",
       "    </tr>\n",
       "    <tr>\n",
       "      <th>12</th>\n",
       "      <td>2604.769531</td>\n",
       "    </tr>\n",
       "    <tr>\n",
       "      <th>13</th>\n",
       "      <td>2700.412598</td>\n",
       "    </tr>\n",
       "    <tr>\n",
       "      <th>14</th>\n",
       "      <td>2918.145508</td>\n",
       "    </tr>\n",
       "    <tr>\n",
       "      <th>15</th>\n",
       "      <td>3048.002686</td>\n",
       "    </tr>\n",
       "    <tr>\n",
       "      <th>16</th>\n",
       "      <td>3153.481934</td>\n",
       "    </tr>\n",
       "    <tr>\n",
       "      <th>17</th>\n",
       "      <td>3194.350586</td>\n",
       "    </tr>\n",
       "    <tr>\n",
       "      <th>18</th>\n",
       "      <td>3233.727051</td>\n",
       "    </tr>\n",
       "    <tr>\n",
       "      <th>19</th>\n",
       "      <td>3228.817627</td>\n",
       "    </tr>\n",
       "    <tr>\n",
       "      <th>20</th>\n",
       "      <td>3209.038818</td>\n",
       "    </tr>\n",
       "    <tr>\n",
       "      <th>21</th>\n",
       "      <td>3161.304199</td>\n",
       "    </tr>\n",
       "    <tr>\n",
       "      <th>22</th>\n",
       "      <td>3142.947021</td>\n",
       "    </tr>\n",
       "    <tr>\n",
       "      <th>23</th>\n",
       "      <td>3144.006592</td>\n",
       "    </tr>\n",
       "  </tbody>\n",
       "</table>\n",
       "</div>"
      ],
      "text/plain": [
       "             MW\n",
       "0   1374.539429\n",
       "1   1428.280640\n",
       "2   1476.812378\n",
       "3   1528.990601\n",
       "4   1634.787231\n",
       "5   1714.233521\n",
       "6   1764.550293\n",
       "7   1911.954834\n",
       "8   2103.975830\n",
       "9   2205.639404\n",
       "10  2258.725342\n",
       "11  2438.605469\n",
       "12  2604.769531\n",
       "13  2700.412598\n",
       "14  2918.145508\n",
       "15  3048.002686\n",
       "16  3153.481934\n",
       "17  3194.350586\n",
       "18  3233.727051\n",
       "19  3228.817627\n",
       "20  3209.038818\n",
       "21  3161.304199\n",
       "22  3142.947021\n",
       "23  3144.006592"
      ]
     },
     "execution_count": 204,
     "metadata": {},
     "output_type": "execute_result"
    }
   ],
   "source": [
    "predicted_df"
   ]
  },
  {
   "cell_type": "markdown",
   "id": "857d524b",
   "metadata": {},
   "source": [
    "### 3.c. Visualize the predicted data:"
   ]
  },
  {
   "cell_type": "code",
   "execution_count": 206,
   "id": "1f979c05",
   "metadata": {},
   "outputs": [
    {
     "data": {
      "image/png": "[encoded data removed]",
      "text/plain": [
       "<Figure size 1000x600 with 1 Axes>"
      ]
     },
     "metadata": {},
     "output_type": "display_data"
    }
   ],
   "source": [
    "plt.figure(figsize=(10, 6))\n",
    "plt.plot(predicted_df['MW'])\n",
    "plt.xlabel('HE')\n",
    "plt.ylabel('MW predicted')\n",
    "plt.title('Power Generation Over Time for 22 April')\n",
    "plt.grid(True)\n",
    "plt.show()"
   ]
  },
  {
   "cell_type": "code",
   "execution_count": 207,
   "id": "a00f0706",
   "metadata": {},
   "outputs": [],
   "source": [
    "\n",
    "predicted_df['HE'] = range(1, len(predicted_df) + 1)\n",
    "\n",
    "\n",
    "predicted_df['Area'] = 'RTO'"
   ]
  },
  {
   "cell_type": "code",
   "execution_count": 208,
   "id": "4717c35b",
   "metadata": {},
   "outputs": [],
   "source": [
    "predicted_df.to_csv(\"2024-04-22_Pred_Riddhi_Pathak.csv\")"
   ]
  },
  {
   "cell_type": "markdown",
   "id": "5b1b0a70",
   "metadata": {},
   "source": [
    "### 4. Use the test data to predict and gauge accuracy of the data:"
   ]
  },
  {
   "cell_type": "code",
   "execution_count": 123,
   "id": "223cf708",
   "metadata": {},
   "outputs": [
    {
     "name": "stdout",
     "output_type": "stream",
     "text": [
      "71/71 [==============================] - 1s 13ms/step\n"
     ]
    }
   ],
   "source": [
    "#X_test\n",
    "y_pred = model.predict(X_test)"
   ]
  },
  {
   "cell_type": "code",
   "execution_count": 171,
   "id": "d5bd9e41",
   "metadata": {},
   "outputs": [
    {
     "data": {
      "text/plain": [
       "(2247, 24, 2)"
      ]
     },
     "execution_count": 171,
     "metadata": {},
     "output_type": "execute_result"
    }
   ],
   "source": [
    "X_test.shape"
   ]
  },
  {
   "cell_type": "code",
   "execution_count": 124,
   "id": "d391c19c",
   "metadata": {},
   "outputs": [
    {
     "data": {
      "text/plain": [
       "(2247, 24)"
      ]
     },
     "execution_count": 124,
     "metadata": {},
     "output_type": "execute_result"
    }
   ],
   "source": [
    "y_pred.shape"
   ]
  },
  {
   "cell_type": "code",
   "execution_count": 148,
   "id": "c1938761",
   "metadata": {},
   "outputs": [
    {
     "name": "stdout",
     "output_type": "stream",
     "text": [
      "Mean Absolute Error (MAE): 0.16304688832223801\n",
      "Mean Squared Error (MSE): 0.042177214918056295\n",
      "Root Mean Squared Error (RMSE): 0.19840112266111257\n"
     ]
    }
   ],
   "source": [
    "mae = mean_absolute_error(y_test, y_pred)\n",
    "\n",
    "mse = mean_squared_error(y_test, y_pred)\n",
    "\n",
    "rmse = mean_squared_error(y_test, y_pred, squared=False)\n",
    "\n",
    "print(\"Mean Absolute Error (MAE):\", mae)\n",
    "print(\"Mean Squared Error (MSE):\", mse)\n",
    "print(\"Root Mean Squared Error (RMSE):\", rmse)"
   ]
  },
  {
   "cell_type": "markdown",
   "id": "2fceb372",
   "metadata": {},
   "source": [
    "### Thus, we see that our model has significantly improved compared to the linear regression."
   ]
  },
  {
   "cell_type": "markdown",
   "id": "2751fe7a",
   "metadata": {},
   "source": [
    "### ***FIN.***"
   ]
  }
 ],
 "metadata": {
  "kernelspec": {
   "display_name": "Python 3.10 (tensorflow)",
   "language": "python",
   "name": "tensorflow"
  },
  "language_info": {
   "codemirror_mode": {
    "name": "ipython",
    "version": 3
   },
   "file_extension": ".py",
   "mimetype": "text/x-python",
   "name": "python",
   "nbconvert_exporter": "python",
   "pygments_lexer": "ipython3",
   "version": "3.10.10"
  }
 },
 "nbformat": 4,
 "nbformat_minor": 5
}
